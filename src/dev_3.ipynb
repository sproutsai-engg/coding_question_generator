{
 "cells": [
  {
   "cell_type": "code",
   "execution_count": 16,
   "metadata": {},
   "outputs": [],
   "source": [
    "import json\n",
    "\n",
    "with open(r\"C:\\SaiVinay\\SproutsAI\\GitHub_\\coding_question_generator\\src\\call_functions.json\") as f:\n",
    "    call_functions = json.load(f)\n",
    "with open(r\"C:\\SaiVinay\\SproutsAI\\GitHub_\\coding_question_generator\\src\\coding_q_gen.json\") as f:\n",
    "    coding_q_gen = json.load(f)\n",
    "with open(r\"C:\\SaiVinay\\SproutsAI\\GitHub_\\coding_question_generator\\json_files\\structuresV2.json\") as f:\n",
    "    structures = json.load(f)\n",
    "\n",
    "coding_questions_merged = {}\n",
    "\n",
    "for key, _dict in call_functions.items():\n",
    "    if key not in structures:\n",
    "        continue\n",
    "    if key not in coding_q_gen:\n",
    "        continue\n",
    "    in_schema = coding_q_gen[key]\n",
    "    in_schema[\"sample_code\"] = structures[key][\"sample_code\"]\n",
    "    in_schema[\"structure\"] = structures[key][\"structure\"]\n",
    "    in_schema[\"call_functions\"] = call_functions[key][\"call_functions\"]\n",
    "    \n",
    "    coding_questions_merged[key] = in_schema\n"
   ]
  },
  {
   "cell_type": "code",
   "execution_count": 17,
   "metadata": {},
   "outputs": [],
   "source": [
    "with open(\"coding_questions_merged.json\", \"w\") as f:\n",
    "    json.dump(coding_questions_merged, f, indent=4)"
   ]
  },
  {
   "cell_type": "code",
   "execution_count": 18,
   "metadata": {},
   "outputs": [
    {
     "data": {
      "text/plain": [
       "484"
      ]
     },
     "execution_count": 18,
     "metadata": {},
     "output_type": "execute_result"
    }
   ],
   "source": [
    "len(coding_questions_merged)"
   ]
  },
  {
   "cell_type": "code",
   "execution_count": 6,
   "metadata": {},
   "outputs": [
    {
     "name": "stdout",
     "output_type": "stream",
     "text": [
      "19\n"
     ]
    }
   ],
   "source": [
    "import json\n",
    "import db\n",
    "with open(r\"C:\\SaiVinay\\SproutsAI\\GitHub_\\coding_question_generator\\src\\streamlit_validate\\data_to_db.json\") as f:\n",
    "    data = json.load(f)\n",
    "print(len(data))\n",
    "for key, value in data.items():\n",
    "    try:\n",
    "        value[\"Qid\"] = key\n",
    "        db.tempCodingQuestionsV3().insert_one(value)\n",
    "    except Exception as e:\n",
    "        print(e)\n",
    "        print(key)\n",
    "        break"
   ]
  },
  {
   "cell_type": "code",
   "execution_count": null,
   "metadata": {},
   "outputs": [],
   "source": []
  }
 ],
 "metadata": {
  "kernelspec": {
   "display_name": "base",
   "language": "python",
   "name": "python3"
  },
  "language_info": {
   "codemirror_mode": {
    "name": "ipython",
    "version": 3
   },
   "file_extension": ".py",
   "mimetype": "text/x-python",
   "name": "python",
   "nbconvert_exporter": "python",
   "pygments_lexer": "ipython3",
   "version": "3.9.12"
  }
 },
 "nbformat": 4,
 "nbformat_minor": 2
}
