{
 "cells": [
  {
   "cell_type": "code",
   "execution_count": 72,
   "metadata": {},
   "outputs": [],
   "source": [
    "import json\n",
    "\n",
    "with open(r'C:\\Users\\udayr\\Sproutsai\\coding_question_generator\\json_files\\leetcode_question.json') as f:\n",
    "    questions = json.load(f)\n",
    "\n"
   ]
  },
  {
   "cell_type": "code",
   "execution_count": 93,
   "metadata": {},
   "outputs": [
    {
     "name": "stdout",
     "output_type": "stream",
     "text": [
      "struct ListNode {\n",
      "    int val;\n",
      "    ListNode *next;\n",
      "    ListNode(int x) : val(x), next(nullptr) {}\n",
      "};\n",
      "\n",
      "ListNode* addTwoNumbers(ListNode* l1, ListNode* l2) {\n",
      "    ListNode dummy(0);\n",
      "    ListNode* current = &dummy;\n",
      "    int carry = 0;\n",
      "\n",
      "    while (l1 || l2 || carry) {\n",
      "        int sum = (l1 ? l1->val : 0) + (l2 ? l2->val : 0) + carry;\n",
      "        carry = sum / 10;\n",
      "        current->next = new ListNode(sum % 10);\n",
      "        current = current->next;\n",
      "\n",
      "        if (l1) l1 = l1->next;\n",
      "        if (l2) l2 = l2->next;\n",
      "    }\n",
      "\n",
      "    return dummy.next;\n",
      "}\n",
      "\n"
     ]
    }
   ],
   "source": [
    "print(questions[1]['answer']['c++'])"
   ]
  },
  {
   "cell_type": "code",
   "execution_count": 74,
   "metadata": {},
   "outputs": [
    {
     "data": {
      "text/plain": [
       "{'1': {'c++': '#include <vector>\\n#include <unordered_map>\\n\\nstd::vector<int> twoSum(std::vector<int>& nums, int target) \\n    // Your code here\\n}\\n',\n",
       "  'java': 'import java.util.HashMap;\\nimport java.util.Map;\\n\\npublic int[] twoSum(int[] nums, int target) \\n    // Your code here\\n}\\n',\n",
       "  'python': 'def twoSum(nums, target):\\n    # Your code here\\n\\n',\n",
       "  'javascript': 'function twoSum(nums, target) \\n    // Your code here\\n}\\n'},\n",
       " '2': {'c++': 'struct ListNode \\n    // Your code here\\n}\\n',\n",
       "  'java': 'public class ListNode \\n    // Your code here\\n}\\n',\n",
       "  'python': 'class ListNode:\\n    # Your code here\\n\\n',\n",
       "  'javascript': 'function ListNode(val, next) \\n    // Your code here\\n};\\n'}}"
      ]
     },
     "execution_count": 74,
     "metadata": {},
     "output_type": "execute_result"
    }
   ],
   "source": [
    "main_struc={}\n",
    "for ques in range(2):\n",
    "    struc={}\n",
    "    for key,val in questions[ques]['answer'].items():\n",
    "        if key!='explanation':\n",
    "            start=val.find('\\n') if key=='python' else val.find('{')\n",
    "            end=val.rfind('\\n',start) if key=='python' else val.rfind('}')\n",
    "            if key=='python':\n",
    "                struc[str(key)]=f\"{val[:start]}\\n    # Your code here\\n{val[end:]}\"\n",
    "            else:\n",
    "                struc[str(key)]=f\"{val[:start]}\\n    // Your code here\\n{val[end:]}\"\n",
    "    main_struc[questions[ques]['Q_id']]=struc\n",
    "# ans=\"def findMedianSortedArrays(nums1, nums2):\\n    if len(nums1) > len(nums2):\\n        return findMedianSortedArrays(nums2, nums1)\\n    \\n    x, y = len(nums1), len(nums2)\\n    low, high = 0, x\\n\\n    while low <= high:\\n        partition_x = (low + high) // 2\\n        partition_y = (x + y + 1) // 2 - partition_x\\n\\n        max_left_x = float('-inf') if partition_x == 0 else nums1[partition_x - 1]\\n        min_right_x = float('inf') if partition_x == x else nums1[partition_x]\\n\\n        max_left_y = float('-inf') if partition_y == 0 else nums2[partition_y - 1]\\n        min_right_y = float('inf') if partition_y == y else nums2[partition_y]\\n\\n        if max_left_x <= min_right_y and max_left_y <= min_right_x:\\n            if (x + y) % 2 == 0:\\n                return (max(max_left_x, max_left_y) + min(min_right_x, min_right_y)) / 2\\n            else:\\n                return max(max_left_x, max_left_y)\\n        elif max_left_x > min_right_y:\\n            high = partition_x - 1\\n        else:\\n            low = partition_x + 1\\n    \\n    return 0\\n\"\n",
    "# start=ans.find('\\n')\n",
    "# end=ans.rfind('\\n',start)\n",
    "# end\n",
    "# ans[start:end]\n",
    "# skele= f\"{ans[:start]}\\n// Your code here\\n{ans[end:]}\"\n",
    "# print(skele)\n",
    "main_struc"
   ]
  },
  {
   "cell_type": "code",
   "execution_count": 66,
   "metadata": {},
   "outputs": [],
   "source": [
    "structure=[]\n"
   ]
  },
  {
   "cell_type": "code",
   "execution_count": 78,
   "metadata": {},
   "outputs": [],
   "source": [
    "\n",
    "# This method below fails if the sample code has a class defined\n",
    "struct={}\n",
    "for ques in range(4):\n",
    "    struc={}\n",
    "    for key,val in questions[ques]['answer'].items():\n",
    "        if key!='explanation':\n",
    "            start=val.find('\\n') if key=='python' else val.find('{')\n",
    "            end=val.rfind('\\n',start) if key=='python' else val.rfind('}')\n",
    "            if key=='python':\n",
    "                struc[str(key)]=f\"{val[:start]}\\n    # Your code here\\n{val[end:]}\"\n",
    "            else:\n",
    "                struc[str(key)]=f\"{val[:start]}\\n    // Your code here\\n{val[end:]}\"\n",
    "    # struct[ques[\"Q_id\"]][\"sample_code\"]=ques['answer']\n",
    "    # struct[\"Q_id\"][\"structure\"]=structure\n",
    "    struct[questions[ques][\"Q_id\"]] = {\"sample_code\": questions[ques]['answer'],\"structure\": struc}\n",
    "    # break\n",
    "struct\n",
    "with open('struct.json','w') as file:\n",
    "    json.dump(struct, file, indent=4)\n"
   ]
  },
  {
   "cell_type": "code",
   "execution_count": 80,
   "metadata": {},
   "outputs": [],
   "source": [
    "with open(r'C:\\Users\\udayr\\Sproutsai\\coding_question_generator\\json_files\\structures.json') as f:\n",
    "    structures = json.load(f)"
   ]
  },
  {
   "cell_type": "code",
   "execution_count": 89,
   "metadata": {},
   "outputs": [],
   "source": [
    "sample=structures['2']\n",
    "print(sample['structure']['c++'])"
   ]
  },
  {
   "cell_type": "code",
   "execution_count": 90,
   "metadata": {},
   "outputs": [
    {
     "name": "stdout",
     "output_type": "stream",
     "text": [
      "struct ListNode \n",
      "    // Your code here\n",
      "}\n",
      "\n"
     ]
    }
   ],
   "source": [
    "struct={}\n",
    "for ques in range(4):\n",
    "    struc={}\n",
    "    for key,val in questions[ques]['answer'].items():"
   ]
  },
  {
   "cell_type": "code",
   "execution_count": 3,
   "metadata": {},
   "outputs": [],
   "source": [
    "import json\n",
    "with open(r'C:\\Users\\udayr\\Sproutsai\\coding_question_generator\\src\\coding_q_gen.json') as f:\n",
    "    question_descriptions = json.load(f)\n",
    "\n",
    "with open(r'C:\\Users\\udayr\\Sproutsai\\coding_question_generator\\json_files\\call_functions.json') as f:\n",
    "    call_functions = json.load(f)\n",
    "\n",
    "with open(r'C:\\Users\\udayr\\Sproutsai\\coding_question_generator\\json_files\\structures.json') as f:\n",
    "    structures = json.load(f)"
   ]
  },
  {
   "cell_type": "code",
   "execution_count": 16,
   "metadata": {},
   "outputs": [
    {
     "name": "stdout",
     "output_type": "stream",
     "text": [
      "None\n",
      "{'call_functions': {'c++': 'bool result = isValid(s);\\nstd::cout << std::boolalpha << result << std::endl;'}}\n",
      "{'sample_code': {'c++': \"bool isValid(std::string s) {\\n    std::stack<char> stack;\\n\\n    for (char c : s) {\\n        if (c == '(' || c == '{' || c == '[') {\\n            stack.push(c);\\n        } else {\\n            if (stack.empty()) return false;\\n            if (c == ')' && stack.top() != '(') return false;\\n            if (c == '}' && stack.top() != '{') return false;\\n            if (c == ']' && stack.top() != '[') return false;\\n            stack.pop();\\n        }\\n    }\\n\\n    return stack.empty();\\n}\\n\", 'java': \"boolean isValid(String s) {\\n    Stack<Character> stack = new Stack<>();\\n\\n    for (char c : s.toCharArray()) {\\n        if (c == '(' || c == '{' || c == '[') {\\n            stack.push(c);\\n        } else {\\n            if (stack.empty()) return false;\\n            if (c == ')' && stack.peek() != '(') return false;\\n            if (c == '}' && stack.peek() != '{') return false;\\n            if (c == ']' && stack.peek() != '[') return false;\\n            stack.pop();\\n        }\\n    }\\n\\n    return stack.empty();\\n}\\n\", 'python': \"def is_valid(s: str) -> bool:\\n    stack = []\\n\\n    for c in s:\\n        if c in '([{':\\n            stack.append(c)\\n        else:\\n            if not stack:\\n                return False\\n            if c == ')' and stack[-1] != '(':\\n                return False\\n            if c == '}' and stack[-1] != '{':\\n                return False\\n            if c == ']' and stack[-1] != '[':\\n                return False\\n            stack.pop()\\n\\n    return not stack\\n\", 'javascript': \"function isValid(s) {\\n    const stack = [];\\n\\n    for (const c of s) {\\n        if (c === '(' || c === '{' || c === '[') {\\n            stack.push(c);\\n        } else {\\n            if (!stack.length) return false;\\n            if (c === ')' && stack[stack.length - 1] !== '(') return false;\\n            if (c === '}' && stack[stack.length - 1] !== '{') return false;\\n            if (c === ']' && stack[stack.length - 1] !== '[') return false;\\n            stack.pop();\\n        }\\n    }\\n\\n    return stack.length === 0;\\n}\\n\", 'explanation': 'The algorithm uses a stack data structure to check the validity of the input string. It iterates through the string one character at a time. When an open bracket is encountered, it is pushed onto the stack. When a close bracket is encountered, the algorithm checks if the stack is empty or the corresponding open bracket is not at the top of the stack. If either of these conditions is true, the function returns false. If not, the open bracket is popped from the stack. After iterating through the entire string, the function checks if the stack is empty. If the stack is not empty, the function returns false, indicating there were unmatched open braces. Otherwise, the function returns true, indicating that the string is valid.'}, 'structure': {'c++': 'bool isValid(std::string s) \\n    // Your code here\\n}\\n', 'java': 'boolean isValid(String s) \\n    // Your code here\\n}\\n', 'python': 'def is_valid(s: str) -> bool:\\n    # Your code here\\n\\n', 'javascript': 'function isValid(s) \\n    // Your code here\\n}\\n'}}\n"
     ]
    }
   ],
   "source": [
    "print(question_descriptions[\"20\"])\n",
    "print(call_functions[\"20\"])\n",
    "print(structures[\"20\"])\n"
   ]
  },
  {
   "cell_type": "code",
   "execution_count": 18,
   "metadata": {},
   "outputs": [],
   "source": [
    "def valid_key(ques_id,object):\n",
    "    if ques_id in object.keys() and object[ques_id] is not None:\n",
    "        return True"
   ]
  },
  {
   "cell_type": "code",
   "execution_count": 21,
   "metadata": {},
   "outputs": [
    {
     "data": {
      "text/plain": [
       "18"
      ]
     },
     "execution_count": 21,
     "metadata": {},
     "output_type": "execute_result"
    }
   ],
   "source": [
    "all_questions={}\n",
    "for key in call_functions.keys():\n",
    "    if valid_key(key,question_descriptions) and valid_key(key,call_functions) and valid_key(key,structures):\n",
    "        all_questions[key]={\"Q_id\":key,\"title\":question_descriptions[key][\"title\"],\"description\":question_descriptions[key][\"description\"],\"example\":question_descriptions[key][\"example\"],\"level\":question_descriptions[key][\"level\"],\"tags\":question_descriptions[key][\"tags\"],\"call_function\":call_functions[key],\"structure\":structures[key]}\n",
    "\n",
    "\n"
   ]
  }
 ],
 "metadata": {
  "kernelspec": {
   "display_name": "Python 3",
   "language": "python",
   "name": "python3"
  },
  "language_info": {
   "codemirror_mode": {
    "name": "ipython",
    "version": 3
   },
   "file_extension": ".py",
   "mimetype": "text/x-python",
   "name": "python",
   "nbconvert_exporter": "python",
   "pygments_lexer": "ipython3",
   "version": "3.9.17"
  }
 },
 "nbformat": 4,
 "nbformat_minor": 2
}
