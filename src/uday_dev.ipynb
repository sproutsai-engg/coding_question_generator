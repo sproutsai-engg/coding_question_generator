{
 "cells": [
  {
   "cell_type": "code",
   "execution_count": 72,
   "metadata": {},
   "outputs": [],
   "source": [
    "import json\n",
    "\n",
    "with open(r'C:\\Users\\udayr\\Sproutsai\\coding_question_generator\\json_files\\leetcode_question.json') as f:\n",
    "    questions = json.load(f)\n",
    "\n"
   ]
  },
  {
   "cell_type": "code",
   "execution_count": 93,
   "metadata": {},
   "outputs": [
    {
     "name": "stdout",
     "output_type": "stream",
     "text": [
      "struct ListNode {\n",
      "    int val;\n",
      "    ListNode *next;\n",
      "    ListNode(int x) : val(x), next(nullptr) {}\n",
      "};\n",
      "\n",
      "ListNode* addTwoNumbers(ListNode* l1, ListNode* l2) {\n",
      "    ListNode dummy(0);\n",
      "    ListNode* current = &dummy;\n",
      "    int carry = 0;\n",
      "\n",
      "    while (l1 || l2 || carry) {\n",
      "        int sum = (l1 ? l1->val : 0) + (l2 ? l2->val : 0) + carry;\n",
      "        carry = sum / 10;\n",
      "        current->next = new ListNode(sum % 10);\n",
      "        current = current->next;\n",
      "\n",
      "        if (l1) l1 = l1->next;\n",
      "        if (l2) l2 = l2->next;\n",
      "    }\n",
      "\n",
      "    return dummy.next;\n",
      "}\n",
      "\n"
     ]
    }
   ],
   "source": [
    "print(questions[1]['answer']['c++'])"
   ]
  },
  {
   "cell_type": "code",
   "execution_count": 74,
   "metadata": {},
   "outputs": [
    {
     "data": {
      "text/plain": [
       "{'1': {'c++': '#include <vector>\\n#include <unordered_map>\\n\\nstd::vector<int> twoSum(std::vector<int>& nums, int target) \\n    // Your code here\\n}\\n',\n",
       "  'java': 'import java.util.HashMap;\\nimport java.util.Map;\\n\\npublic int[] twoSum(int[] nums, int target) \\n    // Your code here\\n}\\n',\n",
       "  'python': 'def twoSum(nums, target):\\n    # Your code here\\n\\n',\n",
       "  'javascript': 'function twoSum(nums, target) \\n    // Your code here\\n}\\n'},\n",
       " '2': {'c++': 'struct ListNode \\n    // Your code here\\n}\\n',\n",
       "  'java': 'public class ListNode \\n    // Your code here\\n}\\n',\n",
       "  'python': 'class ListNode:\\n    # Your code here\\n\\n',\n",
       "  'javascript': 'function ListNode(val, next) \\n    // Your code here\\n};\\n'}}"
      ]
     },
     "execution_count": 74,
     "metadata": {},
     "output_type": "execute_result"
    }
   ],
   "source": [
    "main_struc={}\n",
    "for ques in range(2):\n",
    "    struc={}\n",
    "    for key,val in questions[ques]['answer'].items():\n",
    "        if key!='explanation':\n",
    "            start=val.find('\\n') if key=='python' else val.find('{')\n",
    "            end=val.rfind('\\n',start) if key=='python' else val.rfind('}')\n",
    "            if key=='python':\n",
    "                struc[str(key)]=f\"{val[:start]}\\n    # Your code here\\n{val[end:]}\"\n",
    "            else:\n",
    "                struc[str(key)]=f\"{val[:start]}\\n    // Your code here\\n{val[end:]}\"\n",
    "    main_struc[questions[ques]['Q_id']]=struc\n",
    "# ans=\"def findMedianSortedArrays(nums1, nums2):\\n    if len(nums1) > len(nums2):\\n        return findMedianSortedArrays(nums2, nums1)\\n    \\n    x, y = len(nums1), len(nums2)\\n    low, high = 0, x\\n\\n    while low <= high:\\n        partition_x = (low + high) // 2\\n        partition_y = (x + y + 1) // 2 - partition_x\\n\\n        max_left_x = float('-inf') if partition_x == 0 else nums1[partition_x - 1]\\n        min_right_x = float('inf') if partition_x == x else nums1[partition_x]\\n\\n        max_left_y = float('-inf') if partition_y == 0 else nums2[partition_y - 1]\\n        min_right_y = float('inf') if partition_y == y else nums2[partition_y]\\n\\n        if max_left_x <= min_right_y and max_left_y <= min_right_x:\\n            if (x + y) % 2 == 0:\\n                return (max(max_left_x, max_left_y) + min(min_right_x, min_right_y)) / 2\\n            else:\\n                return max(max_left_x, max_left_y)\\n        elif max_left_x > min_right_y:\\n            high = partition_x - 1\\n        else:\\n            low = partition_x + 1\\n    \\n    return 0\\n\"\n",
    "# start=ans.find('\\n')\n",
    "# end=ans.rfind('\\n',start)\n",
    "# end\n",
    "# ans[start:end]\n",
    "# skele= f\"{ans[:start]}\\n// Your code here\\n{ans[end:]}\"\n",
    "# print(skele)\n",
    "main_struc"
   ]
  },
  {
   "cell_type": "code",
   "execution_count": 66,
   "metadata": {},
   "outputs": [],
   "source": [
    "structure=[]\n"
   ]
  },
  {
   "cell_type": "code",
   "execution_count": 78,
   "metadata": {},
   "outputs": [],
   "source": [
    "\n",
    "# This method below fails if the sample code has a class defined\n",
    "struct={}\n",
    "for ques in range(4):\n",
    "    struc={}\n",
    "    for key,val in questions[ques]['answer'].items():\n",
    "        if key!='explanation':\n",
    "            start=val.find('\\n') if key=='python' else val.find('{')\n",
    "            end=val.rfind('\\n',start) if key=='python' else val.rfind('}')\n",
    "            if key=='python':\n",
    "                struc[str(key)]=f\"{val[:start]}\\n    # Your code here\\n{val[end:]}\"\n",
    "            else:\n",
    "                struc[str(key)]=f\"{val[:start]}\\n    // Your code here\\n{val[end:]}\"\n",
    "    # struct[ques[\"Q_id\"]][\"sample_code\"]=ques['answer']\n",
    "    # struct[\"Q_id\"][\"structure\"]=structure\n",
    "    struct[questions[ques][\"Q_id\"]] = {\"sample_code\": questions[ques]['answer'],\"structure\": struc}\n",
    "    # break\n",
    "struct\n",
    "with open('struct.json','w') as file:\n",
    "    json.dump(struct, file, indent=4)\n"
   ]
  },
  {
   "cell_type": "code",
   "execution_count": 80,
   "metadata": {},
   "outputs": [],
   "source": [
    "with open(r'C:\\Users\\udayr\\Sproutsai\\coding_question_generator\\json_files\\structures.json') as f:\n",
    "    structures = json.load(f)"
   ]
  },
  {
   "cell_type": "code",
   "execution_count": 89,
   "metadata": {},
   "outputs": [],
   "source": [
    "sample=structures['2']\n",
    "print(sample['structure']['c++'])"
   ]
  },
  {
   "cell_type": "code",
   "execution_count": 90,
   "metadata": {},
   "outputs": [
    {
     "name": "stdout",
     "output_type": "stream",
     "text": [
      "struct ListNode \n",
      "    // Your code here\n",
      "}\n",
      "\n"
     ]
    }
   ],
   "source": [
    "struct={}\n",
    "for ques in range(4):\n",
    "    struc={}\n",
    "    for key,val in questions[ques]['answer'].items():"
   ]
  }
 ],
 "metadata": {
  "kernelspec": {
   "display_name": "Python 3",
   "language": "python",
   "name": "python3"
  },
  "language_info": {
   "codemirror_mode": {
    "name": "ipython",
    "version": 3
   },
   "file_extension": ".py",
   "mimetype": "text/x-python",
   "name": "python",
   "nbconvert_exporter": "python",
   "pygments_lexer": "ipython3",
   "version": "3.9.17"
  }
 },
 "nbformat": 4,
 "nbformat_minor": 2
}
