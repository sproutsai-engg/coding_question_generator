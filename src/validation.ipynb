{
 "cells": [
  {
   "cell_type": "code",
   "execution_count": 29,
   "metadata": {},
   "outputs": [],
   "source": [
    "import json\n",
    "import os\n",
    "with open(r'C:\\Users\\udayr\\Sproutsai\\coding_question_generator\\json_files\\all_questions.json') as f:\n",
    "    questions = json.load(f)\n",
    "# questions"
   ]
  },
  {
   "cell_type": "code",
   "execution_count": 30,
   "metadata": {},
   "outputs": [],
   "source": [
    "validation_files_folder=r'C:\\Users\\udayr\\Sproutsai\\coding_question_generator\\src\\validation_files'"
   ]
  },
  {
   "cell_type": "code",
   "execution_count": 31,
   "metadata": {},
   "outputs": [],
   "source": [
    "def is_valid_language(key,val):\n",
    "    return key in val[\"sample_code\"].keys() and key in val[\"structure\"].keys() and key in val[\"call_functions\"].keys()"
   ]
  },
  {
   "cell_type": "code",
   "execution_count": 32,
   "metadata": {},
   "outputs": [],
   "source": [
    "# Validating python code\n",
    "\n",
    "\n",
    "python_file=os.path.join(validation_files_folder, \"all_python_code.py\")\n",
    "\n",
    "with open(python_file, 'w') as file:\n",
    "    for key,val in questions.items():\n",
    "        if is_valid_language(\"python\",val):\n",
    "            file.write(f\"#Validating for ques {key}\\n\")\n",
    "            sample_code=val[\"sample_code\"][\"python\"]\n",
    "            sample_structure=val[\"structure\"][\"python\"]\n",
    "            call_function=val[\"call_functions\"][\"python\"]\n",
    "            # print(call_function)\n",
    "\n",
    "            file.write(sample_code)\n",
    "            file.write('\\n')\n",
    "            file.write(sample_structure)\n",
    "            file.write('\\n')\n",
    "            file.write(call_function)\n",
    "            file.write('\\n')\n",
    "            file.write('\\n #******************************************************** \\n\\n')\n",
    "\n"
   ]
  },
  {
   "cell_type": "code",
   "execution_count": 33,
   "metadata": {},
   "outputs": [],
   "source": [
    "# Validating cpp code\n",
    "\n",
    "cpp_file=os.path.join(validation_files_folder, \"all_cpp_code.cpp\")\n",
    "\n",
    "with open(cpp_file, 'w') as file:\n",
    "    for key,val in questions.items():\n",
    "         if is_valid_language(\"c++\",val):\n",
    "            file.write(f\"//Validating for ques {key}\\n\")\n",
    "            sample_code=val[\"sample_code\"][\"c++\"]\n",
    "            sample_structure=val[\"structure\"][\"c++\"]\n",
    "            call_function=val[\"call_functions\"][\"c++\"]\n",
    "            # print(call_function)\n",
    "\n",
    "            file.write(sample_code)\n",
    "            file.write('\\n')\n",
    "            file.write(sample_structure)\n",
    "            file.write('\\n')\n",
    "            file.write(call_function)\n",
    "            file.write('\\n')\n",
    "            file.write('\\n //******************************************************** \\n\\n')\n"
   ]
  },
  {
   "cell_type": "code",
   "execution_count": 34,
   "metadata": {},
   "outputs": [],
   "source": [
    "# Validating java code\n",
    "java_file=os.path.join(validation_files_folder, \"all_java_code.java\")\n",
    "\n",
    "with open(java_file, 'w') as file:\n",
    "    for key,val in questions.items():\n",
    "        if is_valid_language(\"java\",val):\n",
    "            file.write(f\"//Validating for ques {key}\\n\")\n",
    "            sample_code=val[\"sample_code\"][\"java\"]\n",
    "            sample_structure=val[\"structure\"][\"java\"]\n",
    "            call_function=val[\"call_functions\"][\"java\"]\n",
    "            # print(call_function)\n",
    "\n",
    "            file.write(sample_code)\n",
    "            file.write('\\n')\n",
    "            file.write(sample_structure)\n",
    "            file.write('\\n')\n",
    "            file.write(call_function)\n",
    "            file.write('\\n')\n",
    "            file.write('\\n //******************************************************** \\n\\n')"
   ]
  },
  {
   "cell_type": "code",
   "execution_count": 35,
   "metadata": {},
   "outputs": [],
   "source": [
    "# Validating javascript code\n",
    "\n",
    "javascript_file=os.path.join(validation_files_folder, \"all_javascript_code.js\")\n",
    "\n",
    "with open(javascript_file, 'w') as file:\n",
    "    for key,val in questions.items():\n",
    "        if is_valid_language(\"javascript\",val):\n",
    "            file.write(f\"//Validating for ques {key}\\n\")\n",
    "            sample_code=val[\"sample_code\"][\"javascript\"]\n",
    "            sample_structure=val[\"structure\"][\"javascript\"]\n",
    "            call_function=val[\"call_functions\"][\"javascript\"]\n",
    "            # print(call_function)\n",
    "\n",
    "            file.write(sample_code)\n",
    "            file.write('\\n')\n",
    "            file.write(sample_structure)\n",
    "            file.write('\\n')\n",
    "            file.write(call_function)\n",
    "            file.write('\\n')\n",
    "            file.write('\\n //******************************************************** \\n\\n')"
   ]
  }
 ],
 "metadata": {
  "kernelspec": {
   "display_name": "Python 3",
   "language": "python",
   "name": "python3"
  },
  "language_info": {
   "codemirror_mode": {
    "name": "ipython",
    "version": 3
   },
   "file_extension": ".py",
   "mimetype": "text/x-python",
   "name": "python",
   "nbconvert_exporter": "python",
   "pygments_lexer": "ipython3",
   "version": "3.9.19"
  }
 },
 "nbformat": 4,
 "nbformat_minor": 2
}
