{
 "cells": [
  {
   "cell_type": "code",
   "execution_count": null,
   "metadata": {},
   "outputs": [],
   "source": [
    "import json\n",
    "with open(r\"C:\\SaiVinay\\SproutsAI\\GitHub_\\coding_question_generator\\json_files\\leetcode_question.json\") as f:\n",
    "    coding_questions = json.load(f)\n",
    "len(coding_questions)\n",
    "    "
   ]
  },
  {
   "cell_type": "code",
   "execution_count": null,
   "metadata": {},
   "outputs": [],
   "source": [
    "\n",
    "coding_questions_list = []\n",
    "# Open the file in read mode\n",
    "with open(r\"C:\\SaiVinay\\SproutsAI\\athar\\leetcode-solutions.json\", 'r') as file:\n",
    "    # Iterate over each line in the file\n",
    "    for line in file:\n",
    "        # Process each line as needed\n",
    "        try:\n",
    "            coding_questions_list.append(json.loads(line))  \n",
    "        except Exception as e:\n",
    "            print(e)\n",
    "            continue"
   ]
  },
  {
   "cell_type": "code",
   "execution_count": null,
   "metadata": {},
   "outputs": [],
   "source": [
    "len(coding_questions_list)"
   ]
  },
  {
   "cell_type": "code",
   "execution_count": null,
   "metadata": {},
   "outputs": [],
   "source": [
    "with open(\"leetcode_question.json\", \"w\") as f:\n",
    "    json.dump(coding_questions_list, f, indent=4)"
   ]
  },
  {
   "cell_type": "code",
   "execution_count": null,
   "metadata": {},
   "outputs": [],
   "source": [
    "import json\n",
    "with open(r\"C:\\SaiVinay\\SproutsAI\\GitHub_\\coding_question_generator\\json_files\\leetcode_question.json\") as f:\n",
    "    coding_questions = json.load(f)\n",
    "len(coding_questions)"
   ]
  },
  {
   "cell_type": "code",
   "execution_count": null,
   "metadata": {},
   "outputs": [],
   "source": [
    "coding_questions[0].keys()"
   ]
  },
  {
   "cell_type": "code",
   "execution_count": null,
   "metadata": {},
   "outputs": [],
   "source": [
    "coding_questions[0]['content']"
   ]
  },
  {
   "cell_type": "code",
   "execution_count": 1,
   "metadata": {},
   "outputs": [
    {
     "data": {
      "application/vnd.jupyter.widget-view+json": {
       "model_id": "35d16f43fb734d8c8cf0c055cd6fff03",
       "version_major": 2,
       "version_minor": 0
      },
      "text/plain": [
       "  0%|          | 0/1746 [00:00<?, ?it/s]"
      ]
     },
     "metadata": {},
     "output_type": "display_data"
    },
    {
     "name": "stdout",
     "output_type": "stream",
     "text": [
      "Unterminated string starting at: line 17 column 9 (char 816)\n",
      "unhashable type: 'slice'\n",
      "('Connection aborted.', ConnectionAbortedError(10053, 'An established connection was aborted by the software in your host machine', None, 10053, None))\n",
      "{\"title\": \"Unique Quadruplets\",\n",
      " \"description\": \"Given an array `nums` of `n` integers, return an array of all the unique quadruplets `[nums[a], nums[b], nums[c], nums[d]]` such that: \\n\\n- `0 <= a, b, c, d < n` \\n- `a`, `b`, `c`, and `d` are distinct. \\n- `nums[a] + nums[b] + nums[c] + nums[d] == target` \\n\\nYou may return the answer in any order.\",\n",
      " \"example\": \"Example 1:\\n\\nInput: nums = [1,0,-1,0,-2,2], target = 0\\nOutput: [[-2,-1,1,2],[-2,0,0,2],[-1,0,0,1]]\\n\\nExample 2:\\n\\nInput: nums = [2,2,2,2,2], target = 8\\nOutput: [[2,2,2,2]]\",\n",
      " \"level\": \"Medium\",\n",
      " \"tags\": [\n",
      "    \"Array\",\n",
      "    \"Two Pointers\"\n",
      " ],\n",
      " \"test_cases\": {\n",
      "    \"inputs\": [\n",
      "        \"[1,0,-1,0,-2,2]\",\n",
      "        \"[2,2,2,2,2]\",\n",
      "        \"[0,0,0,0]\",\n",
      "        \"[-1,0,1,2,-1,-4]\",\n",
      "        \"[1,2,3,4,5,6,7,8,9,10]\",\n",
      "        \"[-2,-1,-1,1,1,2,2]\",\n",
      "        \"[0,0,0,0,0,0,0,0,0,0,0,0,0,0,0,0,0,0,0,0,0,0,0,0,0,0,0,0,0,0,0,0,0,0,0,0,0,0,0,0,0,0,0,0,0,0,0,0,0,0,0,0,0,0,0,0,0,0,0,0,0,0,0,0,0,0,0,0,0,0,0,0,0,0,0,0,0,0,0,0,0,0,0,0,0,\n",
      "HTTPConnectionPool(host='gptmodels.sproutsai.com', port=80): Max retries exceeded with url: /proxy (Caused by NewConnectionError('<urllib3.connection.HTTPConnection object at 0x000001742AE02AF0>: Failed to establish a new connection: [Errno 11001] getaddrinfo failed'))\n",
      "{\"title\": \"Unique Quadruplets\",\n",
      " \"description\": \"Given an array `nums` of `n` integers, return an array of all the unique quadruplets `[nums[a], nums[b], nums[c], nums[d]]` such that: \\n\\n- `0 <= a, b, c, d < n` \\n- `a`, `b`, `c`, and `d` are distinct. \\n- `nums[a] + nums[b] + nums[c] + nums[d] == target` \\n\\nYou may return the answer in any order.\",\n",
      " \"example\": \"Example 1:\\n\\nInput: nums = [1,0,-1,0,-2,2], target = 0\\nOutput: [[-2,-1,1,2],[-2,0,0,2],[-1,0,0,1]]\\n\\nExample 2:\\n\\nInput: nums = [2,2,2,2,2], target = 8\\nOutput: [[2,2,2,2]]\",\n",
      " \"level\": \"Medium\",\n",
      " \"tags\": [\n",
      "    \"Array\",\n",
      "    \"Two Pointers\"\n",
      " ],\n",
      " \"test_cases\": {\n",
      "    \"inputs\": [\n",
      "        \"[1,0,-1,0,-2,2]\",\n",
      "        \"[2,2,2,2,2]\",\n",
      "        \"[0,0,0,0]\",\n",
      "        \"[-1,0,1,2,-1,-4]\",\n",
      "        \"[1,2,3,4,5,6,7,8,9,10]\",\n",
      "        \"[-2,-1,-1,1,1,2,2]\",\n",
      "        \"[0,0,0,0,0,0,0,0,0,0,0,0,0,0,0,0,0,0,0,0,0,0,0,0,0,0,0,0,0,0,0,0,0,0,0,0,0,0,0,0,0,0,0,0,0,0,0,0,0,0,0,0,0,0,0,0,0,0,0,0,0,0,0,0,0,0,0,0,0,0,0,0,0,0,0,0,0,0,0,0,0,0,0,0,0,\n",
      "18 {'title': 'Letter Combinations of a Phone Number', 'description': 'Given a string containing digits from `2-9` inclusive, return all possible letter combinations that the number could represent. Return the answer in **any order**.\\n\\nA mapping of digits to letters (just like on the telephone buttons) is given below. Note that 1 does not map to any letters.', 'example': 'Example:\\n\\n**Input:** digits = \"23\"\\n**Output:** [\"ad\", \"ae\", \"af\", \"bd\", \"be\", \"bf\", \"cd\", \"ce\", \"cf\"]\\n\\n**Input:** digits = \"\"\\n**Output:** []\\n\\n**Input:** digits = \"2\"\\n**Output:** [\"a\", \"b\", \"c\"]', 'level': 'Medium', 'tags': ['String', 'Recursion', 'Backtracking'], 'test_cases': {'inputs': ['\"23\"', '\"\"', '\"2\"', '\"234\"', '\"567\"', '\"89\"', '\"999\"', '\"7777\"', '\"2222\"', '\"3333\"', '\"4444\"', '\"5555\"', '\"6666\"', '\"8888\"', '\"9999\"', '\"222\"', '\"333\"', '\"444\"', '\"555\"', '\"666\"', '\"777\"', '\"888\"', '\"999\"', '\"2222\"', '\"3333\"', '\"4444\"', '\"5555\"', '\"6666\"', '\"7777\"', '\"8888\"', '\"9999\"'], 'outputs': ['[\"ad\", \"ae\", \"af\", \"bd\", \"be\", \"bf\", \"cd\", \"ce\", \"cf\"]', '[]', '[\"a\", \"b\", \"c\"]', '[\"adg\", \"adh\", \"adi\", \"aeg\", \"aeh\", \"aei\", \"afg\", \"afh\", \"afi\", \"bdg\", \"bdh\", \"bdi\", \"beg\", \"beh\", \"bei\", \"bfg\", \"bfh\", \"bfi\", \"cdg\", \"cdh\", \"cdi\", \"ceg\", \"ceh\", \"cei\", \"cfg\", \"cfh\", \"cfi\"]', '[\"jm\", \"jn\", \"jo\", \"km\", \"kn\", \"ko\", \"lm\", \"ln\", \"lo\"]', '[\"tw\", \"tx\", \"ty\", \"uw\", \"ux\", \"uy\", \"vw\", \"vx\", \"vy\"]', '[\"w\", \"x\", \"y\", \"z\"]', '[\"aa\", \"ab\", \"ac\", \"ba\", \"bb\", \"bc\", \"ca\", \"cb\", \"cc\"]', '[\"aa\", \"ad\", \"ae\", \"af\", \"ba\", \"bd\", \"be\", \"bf\", \"ca\", \"cd\", \"ce\", \"cf\"]', '[\"dd\", \"de\", \"df\", \"ed\", \"ee\", \"ef\", \"fd\", \"fe\", \"ff\"]', '[\"gg\", \"gh\", \"gi\", \"hg\", \"hh\", \"hi\", \"ig\", \"ih\", \"ii\"]', '[\"jj\", \"jk\", \"jl\", \"kj\", \"kk\", \"kl\", \"lj\", \"lk\", \"ll\"]', '[\"pp\", \"pq\", \"pr\", \"ps\", \"qp\", \"qq\", \"qr\", \"qs\", \"rp\", \"rq\", \"rr\", \"rs\", \"sp\", \"sq\", \"sr\", \"ss\"]', '[\"tt\", \"tu\", \"tv\", \"ut\", \"uu\", \"uv\", \"vt\", \"vu\", \"vv\"]', '[\"ww\", \"wx\", \"wy\", \"wz\", \"xw\", \"xx\", \"xy\", \"xz\", \"yw\", \"yx\", \"yy\", \"yz\", \"zw\", \"zx\", \"zy\", \"zz\"]', '[\"aa\", \"ad\", \"ae\", \"af\", \"ba\", \"bd\", \"be\", \"bf\", \"ca\", \"cd\", \"ce\", \"cf\"]', '[\"dd\", \"de\", \"df\", \"ed\", \"ee\", \"ef\", \"fd\", \"fe\", \"ff\"]', '[\"gg\", \"gh\", \"gi\", \"hg\", \"hh\", \"hi\", \"ig\", \"ih\", \"ii\"]', '[\"jj\", \"jk\", \"jl\", \"kj\", \"kk\", \"kl\", \"lj\", \"lk\", \"ll\"]', '[\"pp\", \"pq\", \"pr\", \"ps\", \"qp\", \"qq\", \"qr\", \"qs\", \"rp\", \"rq\", \"rr\", \"rs\", \"sp\", \"sq\", \"sr\", \"ss\"]', '[\"tt\", \"tu\", \"tv\", \"ut\", \"uu\", \"uv\", \"vt\", \"vu\", \"vv\"]', '[\"ww\", \"wx\", \"wy\", \"wz\", \"xw\", \"xx\", \"xy\", \"xz\", \"yw\", \"yx\", \"yy\", \"yz\", \"zw\", \"zx\", \"zy\", \"zz\"]']}} exceptions must derive from BaseException\n",
      "Invalid \\escape: line 3 column 144 (char 547)\n",
      "unhashable type: 'slice'\n",
      "Invalid \\escape: line 3 column 144 (char 547)\n",
      "unhashable type: 'slice'\n",
      "Invalid \\escape: line 3 column 144 (char 547)\n",
      "unhashable type: 'slice'\n",
      "Unterminated string starting at: line 70 column 9 (char 10271)\n",
      "unhashable type: 'slice'\n",
      "Unterminated string starting at: line 70 column 9 (char 10271)\n",
      "unhashable type: 'slice'\n",
      "Unterminated string starting at: line 70 column 9 (char 10271)\n",
      "unhashable type: 'slice'\n",
      "Unterminated string starting at: line 18 column 9 (char 1120)\n",
      "unhashable type: 'slice'\n"
     ]
    }
   ],
   "source": [
    "import json\n",
    "import prompts\n",
    "from tqdm.auto import tqdm\n",
    "import os\n",
    "with open(r\"C:\\SaiVinay\\SproutsAI\\GitHub_\\coding_question_generator\\json_files\\leetcode_question.json\") as f:\n",
    "    coding_questions = json.load(f)\n",
    "    \n",
    "file_path = r\"C:\\SaiVinay\\SproutsAI\\GitHub_\\coding_question_generator\\src\\coding_q_gen.json\"\n",
    "if os.path.exists(file_path):\n",
    "    with open(file_path) as f:\n",
    "        gen_coding_questions = json.load(f)\n",
    "else:\n",
    "    gen_coding_questions = {}\n",
    "    \n",
    "for question in tqdm(coding_questions):\n",
    "    try:\n",
    "        if question[\"Q_id\"] in gen_coding_questions:\n",
    "            continue\n",
    "        question_description = question['content']\n",
    "        response = prompts.prompt_codingQ_details(question_description)\n",
    "        gen_coding_questions[question[\"Q_id\"]] = response\n",
    "        # print(response)\n",
    "        with open(file_path, \"w\") as f:\n",
    "            json.dump(gen_coding_questions, f, indent=4)\n",
    "    except Exception as e:\n",
    "        print(question[\"Q_id\"], response, e)\n",
    "        continue\n",
    "    "
   ]
  },
  {
   "cell_type": "code",
   "execution_count": null,
   "metadata": {},
   "outputs": [],
   "source": []
  }
 ],
 "metadata": {
  "kernelspec": {
   "display_name": "base",
   "language": "python",
   "name": "python3"
  },
  "language_info": {
   "codemirror_mode": {
    "name": "ipython",
    "version": 3
   },
   "file_extension": ".py",
   "mimetype": "text/x-python",
   "name": "python",
   "nbconvert_exporter": "python",
   "pygments_lexer": "ipython3",
   "version": "3.9.12"
  }
 },
 "nbformat": 4,
 "nbformat_minor": 2
}
