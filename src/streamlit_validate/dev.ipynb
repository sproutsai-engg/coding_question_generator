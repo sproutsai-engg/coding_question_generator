{
 "cells": [
  {
   "cell_type": "code",
   "execution_count": 4,
   "metadata": {},
   "outputs": [
    {
     "data": {
      "text/plain": [
       "list"
      ]
     },
     "execution_count": 4,
     "metadata": {},
     "output_type": "execute_result"
    }
   ],
   "source": [
    "import json\n",
    "type(json.loads(\"[1,3]\"))"
   ]
  },
  {
   "cell_type": "markdown",
   "metadata": {},
   "source": [
    "### Validation steps\n",
    "\n",
    "1. Converting dict into list format.\n",
    "2. For string inputs `\"\\\"input_string\\\"\"` \n",
    "3. If list or dict or integer inputs and outputs are in string format, convert them into original datatype using `json.loads()`\n",
    "\n",
    "#### Validation using Streamlit application.\n",
    "\n",
    "\n",
    "#### Some of the inpus and outputs are wrong.\n",
    "\n"
   ]
  },
  {
   "cell_type": "code",
   "execution_count": 1,
   "metadata": {},
   "outputs": [
    {
     "data": {
      "text/plain": [
       "'\"import java.util.HashMap;\\\\nimport java.util.Map;\\\\nimport java.util.ArrayList;\\\\nimport java.util.List;\\\\nimport java.util.Arrays;\\\\nimport java.util.Collections;\\\\nimport java.util.stream.Collectors;\\\\nimport java.util.stream.IntStream;\\\\n\\\\n\\\\npublic class Main {\\\\n\\\\n}\"'"
      ]
     },
     "execution_count": 1,
     "metadata": {},
     "output_type": "execute_result"
    }
   ],
   "source": [
    "str = \"\"\"import java.util.HashMap;\n",
    "import java.util.Map;\n",
    "import java.util.ArrayList;\n",
    "import java.util.List;\n",
    "import java.util.Arrays;\n",
    "import java.util.Collections;\n",
    "import java.util.stream.Collectors;\n",
    "import java.util.stream.IntStream;\n",
    "\n",
    "\n",
    "public class Main {\n",
    "\n",
    "}\"\"\"\n",
    "\n",
    "import json\n",
    "json.dumps(str)"
   ]
  },
  {
   "cell_type": "code",
   "execution_count": 1,
   "metadata": {},
   "outputs": [
    {
     "name": "stdout",
     "output_type": "stream",
     "text": [
      "Question with the same title already exists with Qid 1. Current Qid is 1\n",
      "None\n"
     ]
    }
   ],
   "source": [
    "import json\n",
    "with open(r\"C:\\SaiVinay\\SproutsAI\\GitHub_\\coding_question_generator\\src\\streamlit_validate\\data_to_db.json\") as f:\n",
    "    data = json.load(f)\n",
    "    \n",
    "import utils \n",
    "\n",
    "for key, val in data.items():\n",
    "    print(utils.upload_to_tempCodingQuestionsV3(key, val))\n",
    "    break"
   ]
  },
  {
   "cell_type": "code",
   "execution_count": 2,
   "metadata": {},
   "outputs": [
    {
     "name": "stdout",
     "output_type": "stream",
     "text": [
      "Question with the same title already exists with Qid 1\n",
      "None\n"
     ]
    }
   ],
   "source": []
  }
 ],
 "metadata": {
  "kernelspec": {
   "display_name": "base",
   "language": "python",
   "name": "python3"
  },
  "language_info": {
   "codemirror_mode": {
    "name": "ipython",
    "version": 3
   },
   "file_extension": ".py",
   "mimetype": "text/x-python",
   "name": "python",
   "nbconvert_exporter": "python",
   "pygments_lexer": "ipython3",
   "version": "3.9.12"
  }
 },
 "nbformat": 4,
 "nbformat_minor": 2
}
