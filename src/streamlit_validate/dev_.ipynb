{
 "cells": [
  {
   "cell_type": "code",
   "execution_count": 3,
   "metadata": {},
   "outputs": [
    {
     "data": {
      "text/plain": [
       "[(2, 0), (5, 2), (7, 1), (9, 3)]"
      ]
     },
     "execution_count": 3,
     "metadata": {},
     "output_type": "execute_result"
    }
   ],
   "source": [
    "nums = [2,7,5,9]\n",
    "\n",
    "lst_nums = [(num, idx) for idx, num in enumerate(nums)]\n",
    "lst_nums.sort()\n",
    "lst_nums"
   ]
  },
  {
   "cell_type": "code",
   "execution_count": 1,
   "metadata": {},
   "outputs": [],
   "source": [
    "import json\n",
    "\n",
    "with open(r\"C:\\SaiVinay\\SproutsAI\\GitHub_\\coding_question_generator\\json_files\\questionGeneration.tempCodingQuestionsV3.json\") as f:\n",
    "    data = json.load(f)"
   ]
  },
  {
   "cell_type": "code",
   "execution_count": 2,
   "metadata": {},
   "outputs": [],
   "source": [
    "with open(r\"C:\\SaiVinay\\SproutsAI\\GitHub_\\coding_question_generator\\json_files\\lightbeam\\mcq_questions_v3 (1).json\") as f:\n",
    "    mcqs = json.load(f)"
   ]
  },
  {
   "cell_type": "code",
   "execution_count": 3,
   "metadata": {},
   "outputs": [],
   "source": [
    "from openpyxl import Workbook\n",
    "\n",
    "# Create a new workbook and select the active worksheet\n",
    "wb = Workbook()\n",
    "ws = wb.active\n",
    "\n",
    "# Optionally, rename the worksheet\n",
    "ws.title = \"Sample Sheet\"\n",
    "\n",
    "# Add some data to the worksheet\n",
    "data = [\n",
    "    [\"Question Number\", \"Topic\", \"Level\", \"Question\"]\n",
    "]\n",
    "for idx, _dict in enumerate(mcqs):\n",
    "    lst = []\n",
    "    lst.append(idx+1)\n",
    "    lst.append(_dict[\"data\"]['topic_tag'][0])\n",
    "    lst.append(_dict[\"data\"][\"level_tag\"][0])\n",
    "    lst.append(_dict[\"data\"][\"question\"])\n",
    "    data.append(lst)\n",
    "\n",
    "for row in data:\n",
    "    ws.append(row)\n",
    "\n",
    "# Save the workbook to a file\n",
    "wb.save(\"sample.xlsx\")\n"
   ]
  },
  {
   "cell_type": "code",
   "execution_count": null,
   "metadata": {},
   "outputs": [],
   "source": [
    "{\n",
    "    \"criteria\": \"Distributed Systems\",\n",
    "    \"skill\": \"Fundamentals\",\n",
    "    \"key_words\": [\n",
    "      \"Distributed Systems\",\n",
    "      \"CAP Theorem\",\n",
    "      \"Consistency\",\n",
    "      \"Availability\",\n",
    "      \"Partition Tolerance\"\n",
    "    ],\n",
    "    \"level_tag\": \"MEDIUM\",\n",
    "    \"type_of_question\": \"Technical\",\n",
    "    \"question_number\": 1001,\n",
    "    \"question\": \"Which of the following best describes the CAP theorem in distributed systems?\",\n",
    "    \"choice_1\": \"It states that a distributed system can achieve consistency, availability, and partition tolerance simultaneously.\",\n",
    "    \"choice_2\": \"It states that a distributed system can achieve only two out of three: consistency, availability, and partition tolerance.\",\n",
    "    \"choice_3\": \"It states that a distributed system can achieve consistency and availability only in the absence of network partitions.\",\n",
    "    \"choice_4\": \"It states that a distributed system cannot achieve consistency under any circumstance.\",\n",
    "    \"correct_choice\": \"choice_2\"\n",
    "  }"
   ]
  },
  {
   "cell_type": "code",
   "execution_count": 4,
   "metadata": {},
   "outputs": [],
   "source": [
    "import json \n",
    "import random\n",
    "\n",
    "with open(r\"C:\\SaiVinay\\SproutsAI\\GitHub_\\coding_question_generator\\json_files\\lightbeam\\mcq_questions_20.json\") as f:\n",
    "    data = json.load(f)\n",
    "\n",
    "new_format = []\n",
    "for _dict in data:\n",
    "    new_format.append({\n",
    "        \"criteria\": _dict[\"data\"][\"subject_tag\"][0],\n",
    "        \"skill\": _dict[\"data\"][\"topic_tag\"][0],\n",
    "        \"key_words\": [\n",
    "            _dict[\"data\"][\"topic_tag\"][0]\n",
    "        ],\n",
    "        \"level_tag\": _dict[\"data\"][\"level_tag\"][0],\n",
    "        \"type_of_question\": \"Technical\",\n",
    "        \"question_number\": random.randint(10,1000),\n",
    "        \"question\": _dict[\"data\"][\"question\"],\n",
    "        \"choice_1\": _dict[\"data\"][\"choice_1\"],\n",
    "        \"choice_2\": _dict[\"data\"][\"choice_2\"],\n",
    "        \"choice_3\": _dict[\"data\"][\"choice_3\"],\n",
    "        \"choice_4\": _dict[\"data\"][\"choice_4\"],\n",
    "        \"correct_choice\": _dict[\"data\"][\"correct_choice\"]\n",
    "    })    \n",
    "\n",
    "with open(r\"new_format_MCQs.json\", \"w\") as f:\n",
    "    json.dump(new_format, f, indent=4)\n"
   ]
  }
 ],
 "metadata": {
  "kernelspec": {
   "display_name": "base",
   "language": "python",
   "name": "python3"
  },
  "language_info": {
   "codemirror_mode": {
    "name": "ipython",
    "version": 3
   },
   "file_extension": ".py",
   "mimetype": "text/x-python",
   "name": "python",
   "nbconvert_exporter": "python",
   "pygments_lexer": "ipython3",
   "version": "3.9.12"
  }
 },
 "nbformat": 4,
 "nbformat_minor": 2
}
