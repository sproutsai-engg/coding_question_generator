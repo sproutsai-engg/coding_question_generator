{
 "cells": [
  {
   "cell_type": "code",
   "execution_count": 1,
   "metadata": {},
   "outputs": [],
   "source": [
    "import json\n",
    "with open(r\"C:\\SaiVinay\\SproutsAI\\GitHub_\\coding_question_generator\\json_files\\leetcode_question.json\") as f:\n",
    "    data = json.load(f)"
   ]
  },
  {
   "cell_type": "code",
   "execution_count": 2,
   "metadata": {},
   "outputs": [
    {
     "data": {
      "text/plain": [
       "{'Q_id': '1',\n",
       " 'slug': 'two-sum',\n",
       " 'title': 'Two Sum',\n",
       " 'difficulty': 'Easy',\n",
       " 'content': 'Given an array of integers `nums` and an integer `target`, return _indices of the two numbers such that they add up to `target`_.\\n\\nYou may assume that each input would have **_exactly_ one solution**, and you may not use the _same_ element twice.\\n\\nYou can return the answer in any order.\\n\\n**Example 1:**\\n\\n**Input:** nums = \\\\[2,7,11,15\\\\], target = 9\\n**Output:** \\\\[0,1\\\\]\\n**Explanation:** Because nums\\\\[0\\\\] + nums\\\\[1\\\\] == 9, we return \\\\[0, 1\\\\].\\n\\n**Example 2:**\\n\\n**Input:** nums = \\\\[3,2,4\\\\], target = 6\\n**Output:** \\\\[1,2\\\\]\\n\\n**Example 3:**\\n\\n**Input:** nums = \\\\[3,3\\\\], target = 6\\n**Output:** \\\\[0,1\\\\]\\n\\n**Constraints:**\\n\\n*   `2 <= nums.length <= 104`\\n*   `-109 <= nums[i] <= 109`\\n*   `-109 <= target <= 109`\\n*   **Only one valid answer exists.**\\n\\n**Follow-up:** Can you come up with an algorithm that is less than `O(n2)` time complexity?',\n",
       " 'answer': {'c++': '#include <vector>\\n#include <unordered_map>\\n\\nstd::vector<int> twoSum(std::vector<int>& nums, int target) {\\n    std::unordered_map<int, int> map;\\n    for (int i = 0; i < nums.size(); i++) {\\n        int complement = target - nums[i];\\n        if (map.find(complement) != map.end()) {\\n            return {map[complement], i};\\n        }\\n        map[nums[i]] = i;\\n    }\\n    return {};\\n}\\n',\n",
       "  'java': 'import java.util.HashMap;\\nimport java.util.Map;\\n\\npublic int[] twoSum(int[] nums, int target) {\\n    Map<Integer, Integer> map = new HashMap<>();\\n    for (int i = 0; i < nums.length; i++) {\\n        int complement = target - nums[i];\\n        if (map.containsKey(complement)) {\\n            return new int[]{map.get(complement), i};\\n        }\\n        map.put(nums[i], i);\\n    }\\n    throw new IllegalArgumentException(\"No two sum solution\");\\n}\\n',\n",
       "  'python': 'def twoSum(nums, target):\\n    map = {}\\n    for i, num in enumerate(nums):\\n        complement = target - num\\n        if complement in map:\\n            return [map[complement], i]\\n        map[num] = i\\n    return []\\n',\n",
       "  'javascript': 'function twoSum(nums, target) {\\n    const map = new Map();\\n    for (let i = 0; i < nums.length; i++) {\\n        const complement = target - nums[i];\\n        if (map.has(complement)) {\\n            return [map.get(complement), i];\\n        }\\n        map.set(nums[i], i);\\n    }\\n    return [];\\n}\\n',\n",
       "  'explanation': \"The algorithm leverages a hash map (unordered_map in C++, HashMap in Java, dictionary in Python, and Map in JavaScript). It iterates through the given 'nums' array and calculates the complementary value (target - current value). If the complementary value is already in the hash map, it means that we found a solution, and we return those indices. If the complement is not in the hash map, we store the current element in the hash map with its index. If the algorithm doesn't find the solution, it returns an empty array or throws an exception (in Java).\\n\\nThis approach has a time complexity of O(n) and a space complexity of O(n) as well.\"}}"
      ]
     },
     "execution_count": 2,
     "metadata": {},
     "output_type": "execute_result"
    }
   ],
   "source": [
    "data[0]"
   ]
  },
  {
   "cell_type": "code",
   "execution_count": 7,
   "metadata": {},
   "outputs": [
    {
     "name": "stdout",
     "output_type": "stream",
     "text": [
      "#include <vector>\n",
      "#include <unordered_map>\n",
      "\n",
      "std::vector<int> twoSum(std::vector<int>& nums, int target) {\n",
      "\n",
      "//Write your code here\n",
      "\n",
      "}\n",
      "\n"
     ]
    }
   ],
   "source": [
    "cpp = data[0][\"answer\"][\"c++\"]\n",
    "cpp_structure = cpp[ : cpp.find(\"{\")+1] + \"\\n\\n//Write your code here\\n\\n\" + cpp[cpp.rfind(\"}\"): ]\n",
    "print(cpp_structure)"
   ]
  },
  {
   "cell_type": "code",
   "execution_count": null,
   "metadata": {},
   "outputs": [],
   "source": [
    "## adding structure, sample_code \n",
    "## sturucture.json\n",
    "{\n",
    "    \"Q_id\":{\n",
    "        \"sample_code\": {\n",
    "            \"c\": \"sample code in c\",\n",
    "            \"cpp\": \"sample code in cpp\",\n",
    "            \"javascript\": \"sample code in java\",\n",
    "            \"python\": \"sample code in python\"\n",
    "        },\n",
    "        \"structure\": {\n",
    "            \"c\": \"structure of the code in c\",\n",
    "            \"cpp\": \"structure of the code in cpp\",\n",
    "            \"javascript\": \"structure of the code in javascript\",\n",
    "            \"python\": \"structure of the code in python\"\n",
    "        }\n",
    "    }\n",
    "}"
   ]
  },
  {
   "cell_type": "code",
   "execution_count": 8,
   "metadata": {},
   "outputs": [
    {
     "data": {
      "text/plain": [
       "330"
      ]
     },
     "execution_count": 8,
     "metadata": {},
     "output_type": "execute_result"
    }
   ],
   "source": [
    "with open(r\"C:\\SaiVinay\\SproutsAI\\GitHub_\\coding_question_generator\\src\\coding_q_gen.json\") as f:\n",
    "    data = json.load(f)\n",
    "len(data)"
   ]
  },
  {
   "cell_type": "code",
   "execution_count": null,
   "metadata": {},
   "outputs": [],
   "source": []
  }
 ],
 "metadata": {
  "kernelspec": {
   "display_name": "base",
   "language": "python",
   "name": "python3"
  },
  "language_info": {
   "codemirror_mode": {
    "name": "ipython",
    "version": 3
   },
   "file_extension": ".py",
   "mimetype": "text/x-python",
   "name": "python",
   "nbconvert_exporter": "python",
   "pygments_lexer": "ipython3",
   "version": "3.9.12"
  }
 },
 "nbformat": 4,
 "nbformat_minor": 2
}
