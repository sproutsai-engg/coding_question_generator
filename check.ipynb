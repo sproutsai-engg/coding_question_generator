{
 "cells": [
  {
   "cell_type": "code",
   "execution_count": 2,
   "metadata": {},
   "outputs": [
    {
     "name": "stdout",
     "output_type": "stream",
     "text": [
      "\n",
      "Caching the list of root modules, please wait!\n",
      "(This will only be done once - type '%rehashx' to reset cache!)\n",
      "\n"
     ]
    }
   ],
   "source": [
    "import json"
   ]
  },
  {
   "cell_type": "code",
   "execution_count": 3,
   "metadata": {},
   "outputs": [],
   "source": [
    "with open('leetcode_question.json', 'r') as f:\n",
    "    data = json.load(f)"
   ]
  },
  {
   "cell_type": "code",
   "execution_count": 9,
   "metadata": {},
   "outputs": [
    {
     "name": "stdout",
     "output_type": "stream",
     "text": [
      "Given an array of integers `nums` and an integer `target`, return _indices of the two numbers such that they add up to `target`_.\n",
      "\n",
      "You may assume that each input would have **_exactly_ one solution**, and you may not use the _same_ element twice.\n",
      "\n",
      "You can return the answer in any order.\n",
      "\n",
      "**Example 1:**\n",
      "\n",
      "**Input:** nums = \\[2,7,11,15\\], target = 9\n",
      "**Output:** \\[0,1\\]\n",
      "**Explanation:** Because nums\\[0\\] + nums\\[1\\] == 9, we return \\[0, 1\\].\n",
      "\n",
      "**Example 2:**\n",
      "\n",
      "**Input:** nums = \\[3,2,4\\], target = 6\n",
      "**Output:** \\[1,2\\]\n",
      "\n",
      "**Example 3:**\n",
      "\n",
      "**Input:** nums = \\[3,3\\], target = 6\n",
      "**Output:** \\[0,1\\]\n",
      "\n",
      "**Constraints:**\n",
      "\n",
      "*   `2 <= nums.length <= 104`\n",
      "*   `-109 <= nums[i] <= 109`\n",
      "*   `-109 <= target <= 109`\n",
      "*   **Only one valid answer exists.**\n",
      "\n",
      "**Follow-up:** Can you come up with an algorithm that is less than `O(n2)` time complexity?\n"
     ]
    }
   ],
   "source": [
    "for i in data:\n",
    "    print(i['content'])\n",
    "    break"
   ]
  },
  {
   "cell_type": "code",
   "execution_count": null,
   "metadata": {},
   "outputs": [],
   "source": []
  }
 ],
 "metadata": {
  "kernelspec": {
   "display_name": "Python 3",
   "language": "python",
   "name": "python3"
  },
  "language_info": {
   "codemirror_mode": {
    "name": "ipython",
    "version": 3
   },
   "file_extension": ".py",
   "mimetype": "text/x-python",
   "name": "python",
   "nbconvert_exporter": "python",
   "pygments_lexer": "ipython3",
   "version": "3.10.6"
  }
 },
 "nbformat": 4,
 "nbformat_minor": 2
}
