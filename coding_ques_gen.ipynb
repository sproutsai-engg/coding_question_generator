{
 "cells": [
  {
   "cell_type": "code",
   "execution_count": 21,
   "metadata": {},
   "outputs": [],
   "source": [
    "from openaifunc import generate_coding_ques\n",
    "temp=generate_coding_ques(\"\"\"Determine if a 9 x 9 Sudoku board is valid. Only the filled cells need to be validated according to the following rules:\n",
    "\n",
    "Each row must contain the digits 1-9 without repetition.\n",
    "Each column must contain the digits 1-9 without repetition.\n",
    "Each of the nine 3 x 3 sub-boxes of the grid must contain the digits 1-9 without repetition.\n",
    "Note:\n",
    "\n",
    "A Sudoku board (partially filled) could be valid but is not necessarily solvable.\n",
    "Only the filled cells need to be validated according to the mentioned rules.\"\"\",['Python','Java'])\n",
    "# print(temp)\n",
    "# temp\n"
   ]
  },
  {
   "cell_type": "code",
   "execution_count": 22,
   "metadata": {},
   "outputs": [
    {
     "data": {
      "text/plain": [
       "'GPT response issue'"
      ]
     },
     "execution_count": 22,
     "metadata": {},
     "output_type": "execute_result"
    }
   ],
   "source": [
    "temp"
   ]
  },
  {
   "cell_type": "code",
   "execution_count": 9,
   "metadata": {},
   "outputs": [],
   "source": [
    "results=[]\n",
    "sample_ques=['Integer to Roman','Valid Sudoku','Valid Parenthesis']\n",
    "for ques in sample_ques:\n",
    "    temp=generate_coding_ques(ques,['Python','JavaScript'])\n",
    "    results.append(temp)"
   ]
  },
  {
   "cell_type": "code",
   "execution_count": 17,
   "metadata": {},
   "outputs": [
    {
     "name": "stdout",
     "output_type": "stream",
     "text": [
      "def is_valid_parenthesis(s):\n",
      "    stack = []\n",
      "    mapping = {')': '(', ']': '[', '}': '{'}\n",
      "    for char in s:\n",
      "        if char in mapping:\n",
      "            if not stack or stack.pop() != mapping[char]:\n",
      "                return False\n",
      "        else:\n",
      "            stack.append(char)\n",
      "    return not stack\n",
      "is_valid_parenthesis($args)\n",
      "function isValidParenthesis(s) {\n",
      "    const stack = [];\n",
      "    const mapping = {')': '(', ']': '[', '}': '{'};\n",
      "    for (let char of s) {\n",
      "        if (char in mapping) {\n",
      "            if (!stack.length || stack.pop() !== mapping[char]) {\n",
      "                return false;\n",
      "            }\n",
      "        } else {\n",
      "            stack.push(char);\n",
      "        }\n",
      "    }\n",
      "    return !stack.length;\n",
      "}\n",
      "isValidParenthesis($args)\n"
     ]
    }
   ],
   "source": [
    "print(results[2]['sample_code']['Python'])\n",
    "print(results[2]['call_functions']['Python'])\n",
    "print(results[2]['sample_code']['JavaScript'])\n",
    "print(results[2]['call_functions']['JavaScript'])"
   ]
  },
  {
   "cell_type": "code",
   "execution_count": 20,
   "metadata": {},
   "outputs": [
    {
     "data": {
      "text/plain": [
       "'GPT response issue'"
      ]
     },
     "execution_count": 20,
     "metadata": {},
     "output_type": "execute_result"
    }
   ],
   "source": [
    "results[1]"
   ]
  }
 ],
 "metadata": {
  "kernelspec": {
   "display_name": "Python 3.9 (tensorflow)",
   "language": "python",
   "name": "tf"
  },
  "language_info": {
   "codemirror_mode": {
    "name": "ipython",
    "version": 3
   },
   "file_extension": ".py",
   "mimetype": "text/x-python",
   "name": "python",
   "nbconvert_exporter": "python",
   "pygments_lexer": "ipython3",
   "version": "3.9.17"
  }
 },
 "nbformat": 4,
 "nbformat_minor": 2
}
