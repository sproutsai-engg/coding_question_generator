{
 "cells": [
  {
   "cell_type": "code",
   "execution_count": 9,
   "metadata": {},
   "outputs": [
    {
     "name": "stdout",
     "output_type": "stream",
     "text": [
      "GPT response issue\n"
     ]
    }
   ],
   "source": [
    "from openaifunc import generate_coding_ques\n",
    "temp=generate_coding_ques(\"Given an array of integers `nums` and an integer `target`, return _indices of the two numbers such that they add up to `target`_.\\n\\nYou may assume that each input would have **_exactly_ one solution**, and you may not use the _same_ element twice.\\n\\nYou can return the answer in any order.\\n\\n**Example 1:**\\n\\n**Input:** nums = \\\\[2,7,11,15\\\\], target = 9\\n**Output:** \\\\[0,1\\\\]\\n**Explanation:** Because nums\\\\[0\\\\] + nums\\\\[1\\\\] == 9, we return \\\\[0, 1\\\\].\\n\\n**Example 2:**\\n\\n**Input:** nums = \\\\[3,2,4\\\\], target = 6\\n**Output:** \\\\[1,2\\\\]\\n\\n**Example 3:**\\n\\n**Input:** nums = \\\\[3,3\\\\], target = 6\\n**Output:** \\\\[0,1\\\\]\\n\\n**Constraints:**\\n\\n*   `2 <= nums.length <= 104`\\n*   `-109 <= nums[i] <= 109`\\n*   `-109 <= target <= 109`\\n*   **Only one valid answer exists.**\\n\\n**Follow-up:** Can you come up with an algorithm that is less than `O(n2)` time complexity?\")\n",
    "print(temp)\n",
    "# temp\n"
   ]
  },
  {
   "cell_type": "code",
   "execution_count": null,
   "metadata": {},
   "outputs": [],
   "source": [
    "temp"
   ]
  },
  {
   "cell_type": "code",
   "execution_count": 2,
   "metadata": {},
   "outputs": [],
   "source": [
    "results=[]\n",
    "sample_ques=['Integer to Roman','Valid Sudoku','Valid Parenthesis']\n",
    "for ques in sample_ques:\n",
    "    temp=generate_coding_ques(ques)\n",
    "    results.append(temp)"
   ]
  },
  {
   "cell_type": "code",
   "execution_count": 6,
   "metadata": {},
   "outputs": [
    {
     "data": {
      "text/plain": [
       "['GPT response issue', 'GPT response issue', 'GPT response issue']"
      ]
     },
     "execution_count": 6,
     "metadata": {},
     "output_type": "execute_result"
    }
   ],
   "source": [
    "results"
   ]
  },
  {
   "cell_type": "code",
   "execution_count": 4,
   "metadata": {},
   "outputs": [
    {
     "name": "stdout",
     "output_type": "stream",
     "text": [
      "{'title': 'title of the problem', 'description': 'description of the problem', 'example': 'example of the problem', 'level': 'level of the problem', 'tags': ['tag1', 'tag2', 'tag3'], 'test_cases': {'inputs': '', 'outputs': ''}}\n"
     ]
    }
   ],
   "source": [
    "import json\n",
    "with open(\"description_temp.json\",\"r\") as desc_template:\n",
    "    template=json.load(desc_template)\n",
    "print(template)"
   ]
  },
  {
   "cell_type": "code",
   "execution_count": null,
   "metadata": {},
   "outputs": [],
   "source": [
    "print(results[2]['sample_code']['Python'])\n",
    "print(results[2]['call_functions']['Python'])\n",
    "print(results[2]['sample_code']['JavaScript'])\n",
    "print(results[2]['call_functions']['JavaScript'])"
   ]
  },
  {
   "cell_type": "code",
   "execution_count": null,
   "metadata": {},
   "outputs": [],
   "source": [
    "results[1]"
   ]
  }
 ],
 "metadata": {
  "kernelspec": {
   "display_name": "Python 3",
   "language": "python",
   "name": "python3"
  },
  "language_info": {
   "codemirror_mode": {
    "name": "ipython",
    "version": 3
   },
   "file_extension": ".py",
   "mimetype": "text/x-python",
   "name": "python",
   "nbconvert_exporter": "python",
   "pygments_lexer": "ipython3",
   "version": "3.10.6"
  }
 },
 "nbformat": 4,
 "nbformat_minor": 2
}
