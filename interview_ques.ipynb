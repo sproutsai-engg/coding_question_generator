{
 "cells": [
  {
   "cell_type": "code",
   "execution_count": null,
   "metadata": {},
   "outputs": [],
   "source": [
    "sample_sai={\n",
    "  \"_id\": {\n",
    "    \"$oid\": \"660c28355eb55837950b945a\"\n",
    "  },\n",
    "  \"id\": \"660ac776f7443f9635010c2e\",\n",
    "  \"problem\": \"Write a function to check if a given string is an anagram of another string.\",\n",
    "  \"function description\": \"An anagram is a word or phrase formed by rearranging the letters of another word or phrase, typically using all the original letters exactly once. The function should take two strings as input and return true if one string is an anagram of the other, and false otherwise.\",\n",
    "  \"sample code c\": \"#include <stdio.h>\\n#include <stdbool.h>\\n#include <string.h>\\n\\nbool is_anagram(const char *str1, const char *str2) {\\n    // Check if the length of both strings are equal\\n    if (strlen(str1) != strlen(str2))\\n        return false;\\n    \\n    // Create arrays to store character frequencies\\n    int freq1[256] = {0};\\n    int freq2[256] = {0};\\n    \\n    // Increment character frequencies for both strings\\n    for (int i = 0; str1[i] != '\\\\0'; i++) {\\n        freq1[str1[i]]++;\\n        freq2[str2[i]]++;\\n    }\\n    \\n    // Check if character frequencies are equal\\n    for (int i = 0; i < 256; i++) {\\n        if (freq1[i] != freq2[i])\\n            return false;\\n    }\\n    \\n    return true;\\n}\\n\\nint main() {\\n   const char *arr[2] = $args;\\n const char *str1 = arr[0]];\\n    const char *str2 = arr[1];\\n    printf(\\\"%s\\\", is_anagram(str1, str2) ? \\\"true\\\" : \\\"false\\\");\\n    return 0;\\n}\",\n",
    "  \"sample code python\": \"def is_anagram(str1, str2):\\n    return sorted(str1) == sorted(str2)\\n\\n# Test the function\\nstr1 = 'listen'\\nstr2 = 'silent'\\nprint(is_anagram(str1, str2))  # Output: True\",\n",
    "  \"sample code javascript\": \"\\nfunction isAnagram(str1, str2) {\\n    return str1.split('').sort().join('') === str2.split('').sort().join('');\\n}\\n\\n// Test the function\\nconst str1 = 'listen';\\nconst str2 = 'silent';\\nconsole.log(isAnagram(str1, str2));  // Output: true\",\n",
    "  \"test cases\": {\n",
    "    \"inputs\": [\n",
    "      [\n",
    "        \"listen\",\n",
    "        \"silent\"\n",
    "      ],\n",
    "      [\n",
    "        \"hello\",\n",
    "        \"world\"\n",
    "      ],\n",
    "      [\n",
    "        \"anagram\",\n",
    "        \"nag a ram\"\n",
    "      ],\n",
    "      [\n",
    "        \"restful\",\n",
    "        \"fluster\"\n",
    "      ],\n",
    "      [\n",
    "        \"cinema\",\n",
    "        \"iceman\"\n",
    "      ]\n",
    "    ],\n",
    "    \"outputs\": [\n",
    "      True,\n",
    "      False,\n",
    "      True,\n",
    "      True,\n",
    "      True\n",
    "    ]\n",
    "  },\n",
    "  \"skeletons\": {\n",
    "    \"c\": \"#include <stdio.h>\\n#include <stdbool.h>\\n#include <string.h>\\n\\nbool is_anagram(const char *str1, const char *str2) {\\n    // Enter your code here\\n}\\n\",\n",
    "    \"python\": \"def is_anagram(str1, str2):\\n    # Remove the pass and write the logic for the function here\\n    pass\\n\",\n",
    "    \"javascript\": \"\\nfunction isAnagram(str1, str2) {\\n    // Your code goes here\\n}\",\n",
    "    \"c_call\": \"#include <stdio.h>\\n#include <stdbool.h>\\n#include <string.h>\\nint main() {\\n   const char *arr[2] = $args;\\n const char *str1 = arr[0]];\\n    const char *str2 = arr[1];\\n    printf(\\\"%s\\\", is_anagram(str1, str2) ? \\\"true\\\" : \\\"false\\\");\\n    return 0;\\n}\",\n",
    "    \"python_call\": \"arr = $args\\nstr1 = arr[0]\\nstr2 = arr[1]\\nprint(is_anagram(str1, str2))\",\n",
    "    \"javascript_call\": \"\\n\\n// Test the function\\nlet arr = $args;\\nconst str1 = arr[0];\\nconst str2 = arr[1];\\nconsole.log(isAnagram(str1, str2));\"\n",
    "  },\n",
    "  \"sample code cpp\": \"#include <iostream>\\n#include <algorithm>\\n#include <string>\\nusing namespace std;\\n\\nbool is_anagram(const string& str1, const string& str2) {\\n    int arr = $args;\\n     string sorted_str1 = arr[0];\\n    string sorted_str2 = arr[1];\\n    sort(sorted_str1.begin(), sorted_str1.end());\\n    sort(sorted_str2.begin(), sorted_str2.end());\\n    return sorted_str1 == sorted_str2;\\n}\\n\\nint main() {\\n    string str1 = \\\"listen\\\";\\n    string str2 = \\\"silent\\\";\\n    cout << boolalpha << is_anagram(str1, str2) << endl;\\n    return 0;\\n}\",\n",
    "  \"title\": \"Check if a given string is an anagram of another string.\"\n",
    "}"
   ]
  },
  {
   "cell_type": "code",
   "execution_count": null,
   "metadata": {},
   "outputs": [
    {
     "ename": "NameError",
     "evalue": "name 'sample_sai' is not defined",
     "output_type": "error",
     "traceback": [
      "\u001b[1;31m---------------------------------------------------------------------------\u001b[0m",
      "\u001b[1;31mNameError\u001b[0m                                 Traceback (most recent call last)",
      "Cell \u001b[1;32mIn[26], line 9\u001b[0m\n\u001b[0;32m      1\u001b[0m \u001b[38;5;66;03m# print(sample_sai['sample code c'])\u001b[39;00m\n\u001b[0;32m      2\u001b[0m \u001b[38;5;66;03m# print(sample_sai['sample code python'])\u001b[39;00m\n\u001b[0;32m      3\u001b[0m \u001b[38;5;66;03m# print(sample_sai['sample code javascript'])\u001b[39;00m\n\u001b[1;32m   (...)\u001b[0m\n\u001b[0;32m      7\u001b[0m \u001b[38;5;66;03m# print(sample_sai['skeletons']['python'])\u001b[39;00m\n\u001b[0;32m      8\u001b[0m \u001b[38;5;66;03m# print(sample_sai['skeletons']['javascript'])\u001b[39;00m\n\u001b[1;32m----> 9\u001b[0m \u001b[38;5;28mprint\u001b[39m(\u001b[43msample_sai\u001b[49m[\u001b[38;5;124m'\u001b[39m\u001b[38;5;124mskeletons\u001b[39m\u001b[38;5;124m'\u001b[39m][\u001b[38;5;124m'\u001b[39m\u001b[38;5;124mcpp\u001b[39m\u001b[38;5;124m'\u001b[39m])\n\u001b[0;32m     10\u001b[0m \u001b[38;5;66;03m# print(sample_sai['skeletons']['c_call'])\u001b[39;00m\n\u001b[0;32m     11\u001b[0m \u001b[38;5;28mprint\u001b[39m(sample_sai[\u001b[38;5;124m'\u001b[39m\u001b[38;5;124mskeletons\u001b[39m\u001b[38;5;124m'\u001b[39m][\u001b[38;5;124m'\u001b[39m\u001b[38;5;124mcpp_call\u001b[39m\u001b[38;5;124m'\u001b[39m])\n",
      "\u001b[1;31mNameError\u001b[0m: name 'sample_sai' is not defined"
     ]
    }
   ],
   "source": [
    "# print(sample_sai['sample code c'])\n",
    "# print(sample_sai['sample code python'])\n",
    "# print(sample_sai['sample code javascript'])\n",
    "# print(sample_sai['sample code cpp'])\n",
    "# print(sample_sai['function description'])\n",
    "# print(sample_sai['skeletons']['c']) \n",
    "# print(sample_sai['skeletons']['python'])\n",
    "# print(sample_sai['skeletons']['javascript'])\n",
    "print(sample_sai['skeletons']['cpp'])\n",
    "# print(sample_sai['skeletons']['c_call'])\n",
    "print(sample_sai['skeletons']['cpp_call'])\n",
    "# print(sample_sai['skeletons']['python_call'])\n",
    "# print(sample_sai['skeletons']['javascript_call'])"
   ]
  },
  {
   "cell_type": "code",
   "execution_count": null,
   "metadata": {},
   "outputs": [],
   "source": [
    "sample={\n",
    "    \"problem\": \"Armstrong Number\",\n",
    "    \"function description\": \"An Armstrong number is a number such that the sum of its digits raised to the power of the number of digits is equal to the number itself. Given an integer n, return true if it is an Armstrong number, and false otherwise.\",\n",
    "    \"sample code c\": \"#include <stdio.h>\\n#include <math.h>\\n\\nint isArmstrong(int n) {\\n    int originalNum = n;\\n    int numDigits = 0;\\n    int sum = 0;\\n    \\n    // Count the number of digits\\n    int temp = n;\\n    while (temp != 0) {\\n        numDigits++;\\n        temp /= 10;\\n    }\\n    \\n    // Calculate the sum of digits raised to the power of the number of digits\\n    temp = n;\\n    while (temp != 0) {\\n        int digit = temp % 10;\\n        \\n        // Compute digit^numDigits using a loop\\n        int power = 1;\\n        for (int i = 0; i < numDigits; i++) {\\n            power *= digit;\\n        }\\n        \\n        sum += power;\\n        temp /= 10;\\n    }\\n    \\n    return originalNum == sum;\\n}\\n\\n\\nint main() {\\n    int n = $args;\\n    int result = isArmstrong(n);\\n    printf(\\\"%s\\\", result ? \\\"True\\\" : \\\"False\\\");\\n    return 0;\\n}\\n\\n\",\n",
    "    \"sample code python\": \"def isArmstrong(n):\\n    original_num = n\\n    num_digits = 0\\n    sum_of_digits = 0\\n    \\n    # Count the number of digits\\n    while n != 0:\\n        num_digits += 1\\n        n //= 10\\n    \\n    n = original_num\\n    \\n    # Calculate the sum of digits raised to the power of the number of digits\\n    while n != 0:\\n        digit = n % 10\\n        sum_of_digits += digit ** num_digits\\n        n //= 10\\n    \\n    return original_num == sum_of_digits\\n\\nn = $args\\nprint(isArmstrong(n))\",\n",
    "    \"sample code javascript\": \"var isArmstrong = function(n) {\\n    const originalNum = n;\\n    let numDigits = 0;\\n    let sumOfDigits = 0;\\n    \\n    // Count the number of digits\\n    while (n !== 0) {\\n        numDigits++;\\n        n = Math.floor(n / 10);\\n    }\\n    \\n    n = originalNum;\\n    \\n    // Calculate the sum of digits raised to the power of the number of digits\\n    while (n !== 0) {\\n        const digit = n % 10;\\n        sumOfDigits += Math.pow(digit, numDigits);\\n        n = Math.floor(n / 10);\\n    }\\n    \\n    return originalNum === sumOfDigits;\\n};\\n\\nconst result = isArmstrong($args);\\nconsole.log(result);\",\n",
    "    \"test cases\": {\n",
    "        \"inputs\": [\n",
    "            153,\n",
    "            370,\n",
    "            371,\n",
    "            120,\n",
    "            1253\n",
    "        ],\n",
    "        \"outputs\": [\n",
    "            \"true\",\n",
    "            \"true\",\n",
    "            \"true\",\n",
    "            \"false\",\n",
    "            \"false\"\n",
    "        ]\n",
    "    },\n",
    "    \"skeletons\": {\n",
    "        \"c\": \"#include <stdio.h>\\n#include <math.h>\\n\\nint isArmstrong(int n) {\\n    // Your logic goes here\\n}\",\n",
    "        \"python\": \"def isArmstrong(n):\\n    # Remove the pass and write your function logic here\\n    pass\",\n",
    "        \"javascript\": \"var isArmstrong = function(n) {\\n    // Your logic goes here\\n};\",\n",
    "        \"cpp\": \"#include <iostream>\\n#include <cmath>\\nusing namespace std;\\n\\nbool isArmstrong(int n) {\\n    // Your logic goes here\\n}\",\n",
    "        \"c_call\": \"#include <stdio.h>\\n#include <math.h>\\n\\nint main() {\\n    int n = $args;\\n    int result = isArmstrong(n);\\n    printf(\\\"%s\\\", result ? \\\"True\\\" : \\\"False\\\");\\n    return 0;\\n}\\n\",\n",
    "        \"cpp_call\": \"#include <iostream>\\n#include <cmath>\\nusing namespace std;\\n\\nint main() {\\n    int n = $args;\\n    bool result = isArmstrong(n);\\n    cout << (result ? \\\"True\\\" : \\\"False\\\") << endl;  \\n    return 0;\\n}\\n\",\n",
    "        \"python_call\": \"n = $args\\nprint(isArmstrong(n))\",\n",
    "        \"javascript_call\": \"const result = isArmstrong($args);\\nconsole.log(result);\"\n",
    "    },\n",
    "    \"sample code cpp\": \"#include <iostream>\\n#include <string>\\nusing namespace std;\\n\\n// Function to calculate the power of a number\\nint power(int base, int exponent) {\\n    int result = 1;\\n    for (int i = 0; i < exponent; ++i) {\\n        result *= base;\\n    }\\n    return result;\\n}\\n\\nbool isArmstrong(int n) {\\n    int originalNum = n;\\n    int numDigits = 0;\\n    int sumOfDigits = 0;\\n    \\n    // Count the number of digits\\n    int temp = n;\\n    while (temp != 0) {\\n        numDigits++;\\n        temp /= 10;\\n    }\\n    \\n    // Calculate the sum of digits raised to the power of the number of digits\\n    temp = n;\\n    while (temp != 0) {\\n        int digit = temp % 10;\\n        sumOfDigits += power(digit, numDigits);\\n        temp /= 10;\\n    }\\n    \\n    return originalNum == sumOfDigits;\\n}\\n\\nint main() {\\n    int n = $args;\\n    bool result = isArmstrong(n);\\n    cout << (result ? \\\"True\\\" : \\\"False\\\") << endl;  \\n    return 0;\\n}\\n\\n\",\n",
    "    \"title\": \"Armstrong Number\"\n",
    "}"
   ]
  },
  {
   "cell_type": "code",
   "execution_count": null,
   "metadata": {},
   "outputs": [
    {
     "name": "stdout",
     "output_type": "stream",
     "text": [
      "An Armstrong number is a number such that the sum of its digits raised to the power of the number of digits is equal to the number itself. Given an integer n, return true if it is an Armstrong number, and false otherwise.\n"
     ]
    }
   ],
   "source": [
    "# print(sample['sample code c'])\n",
    "# print(sample['sample code python'])\n",
    "# print(sample['sample code javascript'])\n",
    "# print(sample['sample code cpp'])\n",
    "print(sample['function description'])\n",
    "# print(sample['skeletons']['c']) \n",
    "# print(sample['skeletons']['python'])\n",
    "# print(sample['skeletons']['javascript'])\n",
    "# print(sample['skeletons']['cpp'])\n",
    "# print(sample['skeletons']['c_call'])\n",
    "# print(sample['skeletons']['cpp_call'])\n",
    "# print(sample['skeletons']['python_call'])\n",
    "# print(sample['skeletons']['javascript_call'])\n"
   ]
  }
 ],
 "metadata": {
  "kernelspec": {
   "display_name": "Python 3.9 (tensorflow)",
   "language": "python",
   "name": "tf"
  },
  "language_info": {
   "codemirror_mode": {
    "name": "ipython",
    "version": 3
   },
   "file_extension": ".py",
   "mimetype": "text/x-python",
   "name": "python",
   "nbconvert_exporter": "python",
   "pygments_lexer": "ipython3",
   "version": "3.9.17"
  }
 },
 "nbformat": 4,
 "nbformat_minor": 2
}
